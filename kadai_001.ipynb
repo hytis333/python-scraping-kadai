{
  "nbformat": 4,
  "nbformat_minor": 0,
  "metadata": {
    "colab": {
      "provenance": [],
      "authorship_tag": "ABX9TyNHP5FA1d1RV8et1OdHhDZx",
      "include_colab_link": true
    },
    "kernelspec": {
      "name": "python3",
      "display_name": "Python 3"
    },
    "language_info": {
      "name": "python"
    }
  },
  "cells": [
    {
      "cell_type": "markdown",
      "metadata": {
        "id": "view-in-github",
        "colab_type": "text"
      },
      "source": [
        "<a href=\"https://colab.research.google.com/github/hytis333/python-scraping-kadai/blob/main/kadai_001.ipynb\" target=\"_parent\"><img src=\"https://colab.research.google.com/assets/colab-badge.svg\" alt=\"Open In Colab\"/></a>"
      ]
    },
    {
      "cell_type": "code",
      "execution_count": 26,
      "metadata": {
        "colab": {
          "base_uri": "https://localhost:8080/"
        },
        "id": "4pAPQAC1115c",
        "outputId": "b7e54afb-7ff2-413a-c282-79b068a6a38f"
      },
      "outputs": [
        {
          "output_type": "stream",
          "name": "stdout",
          "text": [
            "MBSニュース　JR東海は東海道新幹線について、6月18日（火）に沿線で大雨の予報があるため、天候等の状況により、遅れや運転見合わせが発生する場合があると発表しました。\n",
            "\n",
            "【連続画像】各地で大雨か…いつ・どれぐらい雨降るの？【最新シミュレーション】\n",
            "\n",
            "　JR東海は今後の情報に注意してほしいとしています。\n",
            "\n",
            "　気圧や前線に向かって暖かく湿った空気が流れ込む影響で、前線の活動が活発となり、近畿地方で警報級の大雨の恐れがあります。\n",
            "\n",
            "　気象庁によりますと、近畿地方では大気の状態が非常に不安定となり、近畿中部では、18日明け方～昼前にかけて、警報級の大雨となる見込みだということです。\n",
            "\n",
            "　【17日の1時間の予想降水量（多い所）】\n",
            "　　近畿中部　30ミリ\n",
            "　　近畿南部　30ミリ\n",
            "\n",
            "【18日の1時間の予想降水量（多い所）】\n",
            "　　近畿北部　30ミリ\n",
            "　　近畿中部　60ミリ\n",
            "　　近畿南部　60ミリ\n",
            "\n",
            "【18日午後6までの24時間予想降水量（多い所）】\n",
            "　　近畿北部　100ミリ\n",
            "　　近畿中部　200ミリ\n",
            "　　近畿南部　250ミリ\n"
          ]
        }
      ],
      "source": [
        "import requests\n",
        "from bs4 import BeautifulSoup\n",
        "\n",
        "url = 'https://news.yahoo.co.jp/articles/f9ff4a50db3664dc289d45653273a28a8b569b6b'\n",
        "\n",
        "response = requests.get(url)\n",
        "soup = BeautifulSoup(response.text, 'html.parser')\n",
        "\n",
        "body_element = soup.select_one('.sc-zniwbk-0.ldxVVT')\n",
        "body_text = body_element.text\n",
        "print(body_text)"
      ]
    }
  ]
}